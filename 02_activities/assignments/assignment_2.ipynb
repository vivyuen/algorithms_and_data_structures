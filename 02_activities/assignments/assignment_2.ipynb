{
 "cells": [
  {
   "cell_type": "markdown",
   "metadata": {},
   "source": [
    "# Practice Interview\n",
    "\n",
    "## Objective\n",
    "\n",
    "_*The partner assignment aims to provide participants with the opportunity to practice coding in an interview context. You will analyze your partner's Assignment 1. Moreover, code reviews are common practice in a software development team. This assignment should give you a taste of the code review process.*_\n",
    "\n",
    "## Group Size\n",
    "\n",
    "Each group should have 2 people. You will be assigned a partner\n",
    "\n",
    "## Part 1:\n",
    "\n",
    "You and your partner must share each other's Assignment 1 submission."
   ]
  },
  {
   "cell_type": "markdown",
   "metadata": {},
   "source": [
    "\n",
    "## Part 2:\n",
    "\n",
    "Create a Jupyter Notebook, create 6 of the following headings, and complete the following for your partner's assignment 1:\n",
    "\n",
    "-   Paraphrase the problem in your own words.\n"
   ]
  },
  {
   "cell_type": "code",
   "execution_count": null,
   "metadata": {},
   "outputs": [],
   "source": [
    "# Your answer here\n",
    "''' \n",
    "Given the root of a binary tree, a list of all possible paths from root to leaf. \n",
    "The root is the start of all paths and there should be the same number of possible paths as there are leaf nodes. \n",
    "The root is given to us as a list and the tree is constructed from a level-order list. \n",
    "'''"
   ]
  },
  {
   "cell_type": "markdown",
   "metadata": {},
   "source": [
    "\n",
    "-   Create 1 new example that demonstrates you understand the problem. Trace/walkthrough 1 example that your partner made and explain it.\n"
   ]
  },
  {
   "cell_type": "code",
   "execution_count": null,
   "metadata": {},
   "outputs": [],
   "source": [
    "# Your answer here\n",
    "'''\n",
    "# Input: root = [50, 25, 75, 12, 37, 67, 82]\n",
    "# Output: [[50, 25, 12], [50, 25, 37], [50, 75, 67], [50, 75, 82]]\n",
    "'''\n",
    "\n",
    "# Trace/walkthrough 1 example that your partner made and explain it.\n",
    "'''\n",
    "# Input: root = [2, 1, 3, None, 4]\n",
    "# Output: [[2, 1, 4], [2, 3]]\n",
    "\n",
    "My partner's example is a binary tree where 2 is the root, 1 and 3 are the left and right \n",
    "children of 2 respectively. None representes the a missing node in the position of the left \n",
    "child of 3 and 4 is the right child of 1. \n",
    "\n",
    "There are two leaf nodes so they have correctly listed two paths. The left most path is [2, 1, 4] \n",
    "and the right most path is [2, 3].\n",
    "\n",
    "'''"
   ]
  },
  {
   "cell_type": "markdown",
   "metadata": {},
   "source": [
    "\n",
    "-   Copy the solution your partner wrote. \n"
   ]
  },
  {
   "cell_type": "code",
   "execution_count": 1,
   "metadata": {},
   "outputs": [],
   "source": [
    "# Your answer here\n",
    "\n",
    "class TreeNode: # Define the TreeNode class to represent each node in the binary tree \n",
    "    def __init__(self, val=0, left=None, right=None):\n",
    "        self.val = val\n",
    "        self.left = left\n",
    "        self.right = right\n",
    "\n",
    "def root_to_leaf_paths(root):\n",
    "    def dfs(node, path, result): # Used depth first search to traverse the tree \n",
    "        if not node:\n",
    "            return\n",
    "        # Add the current node's value to the path\n",
    "        path.append(node.val)\n",
    "        # If it's a leaf node, add the path to the result\n",
    "        if not node.left and not node.right:\n",
    "            result.append(list(path))\n",
    "        else:\n",
    "            # Recur for left and right children\n",
    "            dfs(node.left, path, result)\n",
    "            dfs(node.right, path, result)\n",
    "        # Backtrack to explore other paths\n",
    "        path.pop()\n",
    "\n",
    "    result = []\n",
    "    dfs(root, [], result)\n",
    "    return result\n",
    "\n",
    "# Helper function to build a tree from a list\n",
    "from collections import deque\n",
    "\n",
    "def build_tree(values):\n",
    "    if not values:\n",
    "        return None\n",
    "    root = TreeNode(values[0])\n",
    "    queue = deque([root])\n",
    "    index = 1\n",
    "    while queue and index < len(values):\n",
    "        node = queue.popleft()\n",
    "        if values[index] is not None:\n",
    "            node.left = TreeNode(values[index])\n",
    "            queue.append(node.left)\n",
    "        index += 1\n",
    "        if index < len(values) and values[index] is not None:\n",
    "            node.right = TreeNode(values[index])\n",
    "            queue.append(node.right)\n",
    "        index += 1\n",
    "    return root\n"
   ]
  },
  {
   "cell_type": "code",
   "execution_count": 14,
   "metadata": {},
   "outputs": [
    {
     "data": {
      "text/plain": [
       "[[2, 1, 4], [2, 3]]"
      ]
     },
     "execution_count": 14,
     "metadata": {},
     "output_type": "execute_result"
    }
   ],
   "source": [
    "values = [2, 1, 3, None, 4]\n",
    "root = build_tree(values)\n",
    "root_to_leaf_paths(root)"
   ]
  },
  {
   "cell_type": "markdown",
   "metadata": {},
   "source": [
    "\n",
    "-   Explain why their solution works in your own words.\n"
   ]
  },
  {
   "cell_type": "code",
   "execution_count": null,
   "metadata": {},
   "outputs": [],
   "source": [
    "# Your answer here\n",
    "'''\n",
    "My partner's code begins with implmenting a TreeNode class which defines a binary tree. \n",
    "\n",
    "Their function, root_to_leaf_paths() uses a depth-first search traversal method to find and record all root-to-leaf paths.\n",
    "\n",
    "Begin at the root. Check if current location is a node. If not, exit from function.\n",
    "If it is, add the current nodes' value to the path. \n",
    "\n",
    "Check if the current location is a leaf. It is considered a leaf if it has no left or right children. \n",
    "If the current node is a leaf, add the current path to result (initialzied as an empty list). \n",
    "Else, follow depth first search traversal by checking for left children at each node\n",
    "and begin at the top for each node until a leaf is reached. \n",
    "\n",
    "path.pop() pops the last node value to check the other child of each node until the whold tree\n",
    "has been explored and the result list is returned. \n",
    "'''"
   ]
  },
  {
   "cell_type": "markdown",
   "metadata": {},
   "source": [
    "\n",
    "-   Explain the problem’s time and space complexity in your own words.\n"
   ]
  },
  {
   "cell_type": "code",
   "execution_count": null,
   "metadata": {},
   "outputs": [],
   "source": [
    "# Your answer here\n",
    "'''\n",
    "This function is O(n) since each node is visted and processed once and the time complexity \n",
    "increases linearly with respect to the number of nodes in the binary tree passed to the function.\n",
    "\n",
    "The space complexity is O(h) where h is the height of the tree, since thee computer needs to store the \n",
    "longest path from the root to a leaf node. \n",
    "'''"
   ]
  },
  {
   "cell_type": "markdown",
   "metadata": {},
   "source": [
    "\n",
    "-   Critique your partner's solution, including explanation, and if there is anything that should be adjusted.\n"
   ]
  },
  {
   "cell_type": "code",
   "execution_count": null,
   "metadata": {},
   "outputs": [],
   "source": [
    "# Your answer here\n",
    "'''\n",
    "I am a novice coder and am very impressed by my partner's work! They seem very experienced and I was impressed with their handling of \n",
    "recursion to systematically check every node in a tree to solve this problem. \n",
    "\n",
    "Something that I like is the way they used path.pop() to keep track of the path and use the state of path to append to the result if \n",
    "certain conditions are met. \n",
    "\n",
    "I also that they checked for the condition and exiting out of the loop if the current location is not node. \n",
    "'''"
   ]
  },
  {
   "cell_type": "markdown",
   "metadata": {},
   "source": [
    "\n",
    "## Part 3:\n",
    "\n",
    "Please write a 200 word reflection documenting your process from assignment 1, and your presentation and review experience with your partner at the bottom of the Jupyter Notebook under a new heading \"Reflection.\" Again, export this Notebook as pdf.\n"
   ]
  },
  {
   "cell_type": "markdown",
   "metadata": {},
   "source": [
    "### Reflection"
   ]
  },
  {
   "cell_type": "code",
   "execution_count": null,
   "metadata": {},
   "outputs": [
    {
     "name": "stdout",
     "output_type": "stream",
     "text": [
      "PDF generated successfully as 'Reflection_VY.pdf' \n"
     ]
    }
   ],
   "source": [
    "'''\n",
    "These exercises were both pretty challenging for me. I am new to these sorts of problems so felt I\n",
    "had to read and digest a lot in order to understand my question and then my partner's question. My process for completing my assignment\n",
    "(Q1) was to understand the question by studying the example inputs and outputs. \n",
    "\n",
    "I used a startegy that began with sorting the list because I like the way the first and last elements become the min and max elements\n",
    "in the list. Then I used a counter to incrementally compare it with values in the list. If the counter was\n",
    "larger than the corresponding element in the list, it would store the value of the counter (the missing value).\n",
    "\n",
    "My partner's question (Q2) was more difficult for me to understand. I am not familiar with \"instantiating\" the parameters of a \n",
    "recursive function inside of another function. After sleeping on it and forcing myself to do the reflections, I understand it better. \n",
    "\n",
    "The presentation and review experience was surprisingly educational. It was really helpful to have someone more experienced to\n",
    "critique my solution and see my partner's tidy code. \n",
    "'''"
   ]
  },
  {
   "cell_type": "markdown",
   "metadata": {},
   "source": [
    "\n",
    "## Evaluation Criteria\n",
    "\n",
    "We are looking for the similar points as Assignment 1\n",
    "\n",
    "-   Problem is accurately stated\n",
    "\n",
    "-   New example is correct and easily understandable\n",
    "\n",
    "-   Correctness, time, and space complexity of the coding solution\n",
    "\n",
    "-   Clarity in explaining why the solution works, its time and space complexity\n",
    "\n",
    "-   Quality of critique of your partner's assignment, if necessary\n"
   ]
  },
  {
   "cell_type": "markdown",
   "metadata": {},
   "source": [
    "## Submission Information\n",
    "\n",
    "🚨 **Please review our [Assignment Submission Guide](https://github.com/UofT-DSI/onboarding/blob/main/onboarding_documents/submissions.md)** 🚨 for detailed instructions on how to format, branch, and submit your work. Following these guidelines is crucial for your submissions to be evaluated correctly.\n",
    "\n",
    "### Submission Parameters:\n",
    "* Submission Due Date: `HH:MM AM/PM - DD/MM/YYYY`\n",
    "* The branch name for your repo should be: `assignment-2`\n",
    "* What to submit for this assignment:\n",
    "    * This Jupyter Notebook (assignment_2.ipynb) should be populated and should be the only change in your pull request.\n",
    "* What the pull request link should look like for this assignment: `https://github.com/<your_github_username>/algorithms_and_data_structures/pull/<pr_id>`\n",
    "    * Open a private window in your browser. Copy and paste the link to your pull request into the address bar. Make sure you can see your pull request properly. This helps the technical facilitator and learning support staff review your submission easily.\n",
    "\n",
    "Checklist:\n",
    "- [ ] Created a branch with the correct naming convention.\n",
    "- [ ] Ensured that the repository is public.\n",
    "- [ ] Reviewed the PR description guidelines and adhered to them.\n",
    "- [ ] Verify that the link is accessible in a private browser window.\n",
    "\n",
    "If you encounter any difficulties or have questions, please don't hesitate to reach out to our team via our Slack at `#cohort-3-help`. Our Technical Facilitators and Learning Support staff are here to help you navigate any challenges.\n"
   ]
  }
 ],
 "metadata": {
  "kernelspec": {
   "display_name": "dsi_participant",
   "language": "python",
   "name": "python3"
  },
  "language_info": {
   "codemirror_mode": {
    "name": "ipython",
    "version": 3
   },
   "file_extension": ".py",
   "mimetype": "text/x-python",
   "name": "python",
   "nbconvert_exporter": "python",
   "pygments_lexer": "ipython3",
   "version": "3.9.19"
  }
 },
 "nbformat": 4,
 "nbformat_minor": 2
}
